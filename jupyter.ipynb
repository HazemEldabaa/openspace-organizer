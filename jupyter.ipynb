{
 "cells": [
  {
   "cell_type": "code",
   "execution_count": 12,
   "metadata": {},
   "outputs": [
    {
     "name": "stdout",
     "output_type": "stream",
     "text": [
      "['Julio', 'Jagger', 'Jean', 'Mark', 'Phillipe', 'Sahar', 'Omar', 'Polina', 'Sylvain', 'Maarten', 'Lea', 'Archana', 'Mehmet', 'Mahak', 'Oleh', 'Sebastiaan', 'Cedric', 'Brian', 'Mimoun', 'Sisko', 'Sam', 'Leyla', 'Jiyoti', 'Hazem']\n",
      "Assigned Julio\n",
      "['Jagger', 'Jean', 'Mark', 'Phillipe', 'Sahar', 'Omar', 'Polina', 'Sylvain', 'Maarten', 'Lea', 'Archana', 'Mehmet', 'Mahak', 'Oleh', 'Sebastiaan', 'Cedric', 'Brian', 'Mimoun', 'Sisko', 'Sam', 'Leyla', 'Jiyoti', 'Hazem']\n",
      "Assigned Jean\n",
      "['Jagger', 'Mark', 'Phillipe', 'Sahar', 'Omar', 'Polina', 'Sylvain', 'Maarten', 'Lea', 'Archana', 'Mehmet', 'Mahak', 'Oleh', 'Sebastiaan', 'Cedric', 'Brian', 'Mimoun', 'Sisko', 'Sam', 'Leyla', 'Jiyoti', 'Hazem']\n",
      "Assigned Phillipe\n",
      "['Jagger', 'Mark', 'Sahar', 'Omar', 'Polina', 'Sylvain', 'Maarten', 'Lea', 'Archana', 'Mehmet', 'Mahak', 'Oleh', 'Sebastiaan', 'Cedric', 'Brian', 'Mimoun', 'Sisko', 'Sam', 'Leyla', 'Jiyoti', 'Hazem']\n",
      "Assigned Omar\n",
      "['Jagger', 'Mark', 'Sahar', 'Polina', 'Sylvain', 'Maarten', 'Lea', 'Archana', 'Mehmet', 'Mahak', 'Oleh', 'Sebastiaan', 'Cedric', 'Brian', 'Mimoun', 'Sisko', 'Sam', 'Leyla', 'Jiyoti', 'Hazem']\n",
      "Assigned Sylvain\n",
      "['Jagger', 'Mark', 'Sahar', 'Polina', 'Maarten', 'Lea', 'Archana', 'Mehmet', 'Mahak', 'Oleh', 'Sebastiaan', 'Cedric', 'Brian', 'Mimoun', 'Sisko', 'Sam', 'Leyla', 'Jiyoti', 'Hazem']\n",
      "Assigned Lea\n",
      "['Jagger', 'Mark', 'Sahar', 'Polina', 'Maarten', 'Archana', 'Mehmet', 'Mahak', 'Oleh', 'Sebastiaan', 'Cedric', 'Brian', 'Mimoun', 'Sisko', 'Sam', 'Leyla', 'Jiyoti', 'Hazem']\n",
      "['Jagger', 'Mark', 'Sahar', 'Polina', 'Maarten', 'Archana', 'Mahak', 'Oleh', 'Sebastiaan', 'Cedric', 'Brian', 'Mimoun', 'Sisko', 'Sam', 'Leyla', 'Jiyoti', 'Hazem']\n",
      "['Jagger', 'Mark', 'Sahar', 'Polina', 'Maarten', 'Archana', 'Mahak', 'Sebastiaan', 'Cedric', 'Brian', 'Mimoun', 'Sisko', 'Sam', 'Leyla', 'Jiyoti', 'Hazem']\n",
      "['Jagger', 'Mark', 'Sahar', 'Polina', 'Maarten', 'Archana', 'Mahak', 'Sebastiaan', 'Brian', 'Mimoun', 'Sisko', 'Sam', 'Leyla', 'Jiyoti', 'Hazem']\n",
      "['Jagger', 'Mark', 'Sahar', 'Polina', 'Maarten', 'Archana', 'Mahak', 'Sebastiaan', 'Brian', 'Sisko', 'Sam', 'Leyla', 'Jiyoti', 'Hazem']\n",
      "['Jagger', 'Mark', 'Sahar', 'Polina', 'Maarten', 'Archana', 'Mahak', 'Sebastiaan', 'Brian', 'Sisko', 'Leyla', 'Jiyoti', 'Hazem']\n",
      "['Jagger', 'Mark', 'Sahar', 'Polina', 'Maarten', 'Archana', 'Mahak', 'Sebastiaan', 'Brian', 'Sisko', 'Leyla', 'Hazem']\n",
      "Assigned Jagger\n",
      "['Mark', 'Sahar', 'Polina', 'Maarten', 'Archana', 'Mahak', 'Sebastiaan', 'Brian', 'Sisko', 'Leyla', 'Hazem']\n",
      "Assigned Sahar\n",
      "['Mark', 'Polina', 'Maarten', 'Archana', 'Mahak', 'Sebastiaan', 'Brian', 'Sisko', 'Leyla', 'Hazem']\n",
      "Assigned Maarten\n",
      "['Mark', 'Polina', 'Archana', 'Mahak', 'Sebastiaan', 'Brian', 'Sisko', 'Leyla', 'Hazem']\n",
      "Assigned Mahak\n",
      "['Mark', 'Polina', 'Archana', 'Sebastiaan', 'Brian', 'Sisko', 'Leyla', 'Hazem']\n",
      "Assigned Brian\n",
      "['Mark', 'Polina', 'Archana', 'Sebastiaan', 'Sisko', 'Leyla', 'Hazem']\n",
      "Assigned Leyla\n",
      "['Mark', 'Polina', 'Archana', 'Sebastiaan', 'Sisko', 'Hazem']\n",
      "Assigned Mark\n",
      "['Polina', 'Archana', 'Sebastiaan', 'Sisko', 'Hazem']\n",
      "Assigned Archana\n",
      "['Polina', 'Sebastiaan', 'Sisko', 'Hazem']\n",
      "Assigned Sisko\n",
      "['Polina', 'Sebastiaan', 'Hazem']\n",
      "Assigned Polina\n",
      "['Sebastiaan', 'Hazem']\n",
      "Assigned Hazem\n",
      "['Sebastiaan']\n"
     ]
    },
    {
     "data": {
      "text/plain": [
       "<bound method OpenSpace.display of <src.openspace.OpenSpace object at 0x0000013FD762BB60>>"
      ]
     },
     "execution_count": 12,
     "metadata": {},
     "output_type": "execute_result"
    }
   ],
   "source": [
    "from src.openspace import OpenSpace\n",
    "from src.table import Table\n",
    "from src.table import Seat\n",
    "\n",
    "read = open(\"colleagues.txt\", \"r\")\n",
    "ready = [read.read().split()][0]\n",
    "print(ready)\n",
    "\n",
    "    \n",
    "if __name__ == \"__main__\":\n",
    "    number_of_tables = 6\n",
    "    table_capacity = 4\n",
    "\n",
    "open_space = OpenSpace()\n",
    "open_space.organize(ready)\n",
    "open_space.display"
   ]
  },
  {
   "cell_type": "code",
   "execution_count": 19,
   "metadata": {},
   "outputs": [
    {
     "data": {
      "text/plain": [
       "24"
      ]
     },
     "execution_count": 19,
     "metadata": {},
     "output_type": "execute_result"
    }
   ],
   "source": [
    "read = open(\"colleagues.txt\", \"r\")\n",
    "ready = [read.read().split()][0]\n",
    "len(ready)"
   ]
  },
  {
   "cell_type": "code",
   "execution_count": 22,
   "metadata": {},
   "outputs": [
    {
     "data": {
      "text/plain": [
       "['Julio',\n",
       " 'Jagger',\n",
       " 'Jean',\n",
       " 'Mark',\n",
       " 'Phillipe',\n",
       " 'Sahar',\n",
       " 'Omar',\n",
       " 'Polina',\n",
       " 'Sylvain',\n",
       " 'Maarten',\n",
       " 'Lea',\n",
       " 'Archana',\n",
       " 'Mehmet',\n",
       " 'Mahak',\n",
       " 'Oleh',\n",
       " 'Sebastiaan',\n",
       " 'Cedric',\n",
       " 'Brian',\n",
       " 'Mimoun',\n",
       " 'Sisko',\n",
       " 'Sam',\n",
       " 'Leyla',\n",
       " 'Jiyoti',\n",
       " 'Hazem']"
      ]
     },
     "execution_count": 22,
     "metadata": {},
     "output_type": "execute_result"
    }
   ],
   "source": [
    "ready"
   ]
  },
  {
   "cell_type": "code",
   "execution_count": 14,
   "metadata": {},
   "outputs": [],
   "source": [
    "open_space.tables[0].assign_seat('names')"
   ]
  },
  {
   "cell_type": "code",
   "execution_count": 15,
   "metadata": {},
   "outputs": [
    {
     "data": {
      "text/plain": [
       "[<src.table.Table at 0x13fd7629ca0>,\n",
       " <src.table.Table at 0x13fd762ce90>,\n",
       " <src.table.Table at 0x13fd762d130>,\n",
       " <src.table.Table at 0x13fd762d0d0>]"
      ]
     },
     "execution_count": 15,
     "metadata": {},
     "output_type": "execute_result"
    }
   ],
   "source": [
    "open_space.tables"
   ]
  },
  {
   "cell_type": "code",
   "execution_count": 16,
   "metadata": {},
   "outputs": [
    {
     "name": "stdout",
     "output_type": "stream",
     "text": [
      "table1\n",
      "Julio\n",
      "Jean\n",
      "Phillipe\n",
      "Omar\n",
      "Sylvain\n",
      "Lea\n",
      "table2\n",
      "Jagger\n",
      "Sahar\n",
      "Maarten\n",
      "Mahak\n",
      "Brian\n",
      "Leyla\n",
      "table3\n",
      "Mark\n",
      "Archana\n",
      "Sisko\n",
      "None\n",
      "None\n",
      "None\n",
      "table4\n",
      "Polina\n",
      "Hazem\n",
      "None\n",
      "None\n",
      "None\n",
      "None\n"
     ]
    }
   ],
   "source": [
    "for i,table in enumerate(open_space.tables, start=1):\n",
    "    print('table'+str(i))\n",
    "    for seat in table.seats:\n",
    "        print(seat.occupant)"
   ]
  },
  {
   "cell_type": "code",
   "execution_count": 17,
   "metadata": {},
   "outputs": [
    {
     "data": {
      "text/plain": [
       "True"
      ]
     },
     "execution_count": 17,
     "metadata": {},
     "output_type": "execute_result"
    }
   ],
   "source": [
    "test=Table()\n",
    "[seat.free for seat in test.seats]\n",
    "any(seat.free for seat in test.seats)"
   ]
  },
  {
   "cell_type": "code",
   "execution_count": 18,
   "metadata": {},
   "outputs": [
    {
     "data": {
      "text/plain": [
       "[<src.table.Seat at 0x13fd70898b0>,\n",
       " <src.table.Seat at 0x13fd708b920>,\n",
       " <src.table.Seat at 0x13fd7089220>,\n",
       " <src.table.Seat at 0x13fd7088800>,\n",
       " <src.table.Seat at 0x13fd762cd70>,\n",
       " <src.table.Seat at 0x13fd762cda0>]"
      ]
     },
     "execution_count": 18,
     "metadata": {},
     "output_type": "execute_result"
    }
   ],
   "source": [
    "open_space.tables[0].seats"
   ]
  },
  {
   "cell_type": "code",
   "execution_count": null,
   "metadata": {},
   "outputs": [],
   "source": []
  }
 ],
 "metadata": {
  "kernelspec": {
   "display_name": "env",
   "language": "python",
   "name": "python3"
  },
  "language_info": {
   "codemirror_mode": {
    "name": "ipython",
    "version": 3
   },
   "file_extension": ".py",
   "mimetype": "text/x-python",
   "name": "python",
   "nbconvert_exporter": "python",
   "pygments_lexer": "ipython3",
   "version": "3.12.1"
  }
 },
 "nbformat": 4,
 "nbformat_minor": 2
}
